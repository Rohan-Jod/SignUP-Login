{
 "cells": [
  {
   "cell_type": "markdown",
   "id": "8fd08984",
   "metadata": {},
   "source": [
    "\n",
    "# MAIN CODE"
   ]
  },
  {
   "cell_type": "code",
   "execution_count": 19,
   "id": "3f3792d4",
   "metadata": {},
   "outputs": [],
   "source": [
    "from termcolor import cprint"
   ]
  },
  {
   "cell_type": "code",
   "execution_count": 20,
   "id": "c47e7193",
   "metadata": {},
   "outputs": [
    {
     "name": "stdout",
     "output_type": "stream",
     "text": [
      "\u001b[34m---------------Enter any one Symbol in Your username to avoid any Duplicacy------------------\u001b[0m\n",
      "Enter your Username:- beena12\n",
      "Enter Password:-beena456789\n",
      "Confirm Password:-beena456789\n",
      "Enter Your Name: Beena Dhoundiyal\n",
      "CONGRATS! Your Account has been created.\n"
     ]
    }
   ],
   "source": [
    "def register():\n",
    "    cprint('---------------Enter any one Symbol in Your username to avoid any Duplicacy------------------','blue')\n",
    "    with open(\"C:/Users/Rohan/OneDrive/Desktop/DATA SCIENCE/Log.txt\",\"r\") as file:\n",
    "        while True:\n",
    "            newUsername = str(input(\"Enter your Username:- \"))\n",
    "            if newUsername == \"\":\n",
    "                print('Invalid Username!!')\n",
    "                continue\n",
    "                \n",
    "            elif newUsername in file.read():\n",
    "                print('User name Already exists!!')\n",
    "                continue\n",
    "            else:\n",
    "                break\n",
    "    \n",
    "        while True:\n",
    "            password1 = input('Enter Password:-')\n",
    "            if len(password1) <= 8:\n",
    "                print('Password too short!!')\n",
    "                continue\n",
    "            else:\n",
    "                password2 = input('Confirm Password:-')\n",
    "\n",
    "            if password1 != password2:\n",
    "                print('Password can not match!!')\n",
    "                continue    \n",
    "            else:\n",
    "                break\n",
    "        name = input('Enter Your Name: ')\n",
    "         \n",
    "    with open(\"C:/Users/Rohan/OneDrive/Desktop/DATA SCIENCE/Log.txt\", 'a') as accounts:\n",
    "        accounts.write(newUsername + \",\" + password1 + \",\" + name )\n",
    "        accounts.write(\"\\n\")\n",
    "\n",
    "    print(\"CONGRATS! Your Account has been created.\")\n",
    "\n",
    "\n",
    "\n",
    "\n",
    "    \n",
    "register()"
   ]
  },
  {
   "cell_type": "code",
   "execution_count": 18,
   "id": "60afdea2",
   "metadata": {},
   "outputs": [
    {
     "name": "stdout",
     "output_type": "stream",
     "text": [
      "Enter Username: rohan12\n",
      "Enter PASSWORD: dhoundiyal\n",
      "Hello Rohan Dhoundiyal\n",
      "LOGGED IN\n"
     ]
    }
   ],
   "source": [
    "def login():\n",
    "    loginUsername = input(\"Enter Username: \")\n",
    "    loginPassword = input(\"Enter PASSWORD: \")\n",
    "\n",
    "    with open(\"C:/Users/Rohan/OneDrive/Desktop/DATA SCIENCE/Log.txt\") as data:\n",
    "        accounts = data.readlines()\n",
    "\n",
    "    userfound = False   #given due to \n",
    "    for line in accounts:\n",
    "        splitline = line.split(\",\")\n",
    "        if loginUsername == splitline[0] and loginPassword == splitline[1]:\n",
    "            print('Hello',splitline[2])\n",
    "            userfound = True\n",
    "            break\n",
    "    return userfound\n",
    "\n",
    "\n",
    "userfound = login()\n",
    "if userfound:        \n",
    "    print(\"LOGGED IN\")\n",
    "else:\n",
    "    print(\"Check Your USERNAME OR PASSWORD\")\n",
    "    login()\n",
    "    "
   ]
  },
  {
   "cell_type": "code",
   "execution_count": null,
   "id": "e2d689ec",
   "metadata": {},
   "outputs": [],
   "source": []
  },
  {
   "cell_type": "code",
   "execution_count": null,
   "id": "ab0c555f",
   "metadata": {},
   "outputs": [],
   "source": [
    " "
   ]
  }
 ],
 "metadata": {
  "kernelspec": {
   "display_name": "Python 3 (ipykernel)",
   "language": "python",
   "name": "python3"
  },
  "language_info": {
   "codemirror_mode": {
    "name": "ipython",
    "version": 3
   },
   "file_extension": ".py",
   "mimetype": "text/x-python",
   "name": "python",
   "nbconvert_exporter": "python",
   "pygments_lexer": "ipython3",
   "version": "3.9.7"
  }
 },
 "nbformat": 4,
 "nbformat_minor": 5
}
